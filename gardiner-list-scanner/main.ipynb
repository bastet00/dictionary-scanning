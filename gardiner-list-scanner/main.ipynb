{
 "cells": [
  {
   "cell_type": "code",
   "execution_count": 16,
   "metadata": {},
   "outputs": [],
   "source": [
    "from bs4 import BeautifulSoup\n",
    "import json "
   ]
  },
  {
   "cell_type": "code",
   "execution_count": 17,
   "metadata": {},
   "outputs": [],
   "source": [
    "with open(\"signs-a-to-z.html\", \"rb\") as file:\n",
    "    signs_a_to_z = file.read()\n",
    "\n",
    "\n",
    "with open(\"tall_low_signs.html\", \"rb\") as file:\n",
    "    tall_low_signs = file.read()\n",
    "\n",
    "# Dictionary to store the mapping of first two <td> values\n",
    "td_mapping = {}"
   ]
  },
  {
   "cell_type": "markdown",
   "metadata": {},
   "source": [
    "### Load general signs from A to Z codes"
   ]
  },
  {
   "cell_type": "code",
   "execution_count": 18,
   "metadata": {},
   "outputs": [],
   "source": [
    "# Parse the HTML content with BeautifulSoup\n",
    "signs_soup = BeautifulSoup(signs_a_to_z, 'html.parser')\n",
    "# Find all rows in the table (<tr> tags)\n",
    "signs_rows = signs_soup.find_all('tr')\n",
    "\n",
    "# Iterate over each row and map the first two <td> values for the first general signs\n",
    "for row in signs_rows:\n",
    "    # Find all <td> tags in the row\n",
    "    cols = row.find_all('td')\n",
    "    # If the row has at least two <td> elements, map the first to the second\n",
    "    if len(cols) >= 2:\n",
    "        # Get the text inside the first and second <td> tags\n",
    "        code_text = cols[0].get_text(strip=True)\n",
    "        sign_text = cols[1].get_text(strip=True)\n",
    "        \n",
    "        # Add to the dictionary\n",
    "        td_mapping[code_text] = sign_text"
   ]
  },
  {
   "cell_type": "markdown",
   "metadata": {},
   "source": [
    "### Load general signs from A to Z codes"
   ]
  },
  {
   "cell_type": "code",
   "execution_count": 19,
   "metadata": {},
   "outputs": [],
   "source": [
    "# Parse the HTML content with BeautifulSoup\n",
    "tall_low_sings_soup = BeautifulSoup(tall_low_signs, 'html.parser')\n",
    "\n",
    "# Find all rows in the table (<tr> tags)\n",
    "tall_low_signs_rows = tall_low_sings_soup.find_all('tr')\n",
    "\n",
    "\n",
    "# Iterate over each row and map the first two <td> values for the tall low signs\n",
    "for i in range(0, len(tall_low_signs_rows), 2):\n",
    "    # Find all <td> tags in the row\n",
    "    signs_cols = tall_low_signs_rows[i].find_all('td')\n",
    "    code_cols = tall_low_signs_rows[i+1].find_all('td')\n",
    "    for col_index in range(0, len(signs_cols)):\n",
    "        # Get the text inside the first and second <td> tags\n",
    "        signs_col_text = signs_cols[col_index].get_text(strip=True)\n",
    "        code_col_text = code_cols[col_index].get_text(strip=True)\n",
    "        \n",
    "        # Add to the dictionary\n",
    "        td_mapping[code_col_text] = signs_col_text\n",
    "\n",
    "\n"
   ]
  },
  {
   "cell_type": "code",
   "execution_count": 20,
   "metadata": {},
   "outputs": [
    {
     "name": "stdout",
     "output_type": "stream",
     "text": [
      "774\n"
     ]
    }
   ],
   "source": [
    "print(len(td_mapping))"
   ]
  },
  {
   "cell_type": "code",
   "execution_count": null,
   "metadata": {},
   "outputs": [],
   "source": [
    "# # Print the resulting dictionary\n",
    "# for key, value in td_mapping.items():\n",
    "#     print(f'\"{key}\": \"{value}\",')\n"
   ]
  },
  {
   "cell_type": "code",
   "execution_count": 21,
   "metadata": {},
   "outputs": [],
   "source": [
    "# Convert Python to JSON  \n",
    "json_object = json.dumps(td_mapping, indent = 4, ensure_ascii=False, sort_keys=True) \n"
   ]
  },
  {
   "cell_type": "code",
   "execution_count": 11,
   "metadata": {},
   "outputs": [],
   "source": [
    "with open(\"signs_mapper.json\", \"w\") as outfile: \n",
    "    json.dump(td_mapping, outfile, indent = 4, ensure_ascii=False, sort_keys=True) "
   ]
  },
  {
   "cell_type": "code",
   "execution_count": null,
   "metadata": {},
   "outputs": [],
   "source": []
  }
 ],
 "metadata": {
  "kernelspec": {
   "display_name": "dictionary-scanning-P0VcKHvV",
   "language": "python",
   "name": "python3"
  },
  "language_info": {
   "codemirror_mode": {
    "name": "ipython",
    "version": 3
   },
   "file_extension": ".py",
   "mimetype": "text/x-python",
   "name": "python",
   "nbconvert_exporter": "python",
   "pygments_lexer": "ipython3",
   "version": "3.12.5"
  }
 },
 "nbformat": 4,
 "nbformat_minor": 2
}
